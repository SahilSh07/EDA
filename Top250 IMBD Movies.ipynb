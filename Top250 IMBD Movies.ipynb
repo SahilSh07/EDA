{
 "cells": [
  {
   "cell_type": "markdown",
   "id": "c1b7f38a",
   "metadata": {
    "papermill": {
     "duration": 0.013395,
     "end_time": "2023-05-07T07:31:27.001592",
     "exception": false,
     "start_time": "2023-05-07T07:31:26.988197",
     "status": "completed"
    },
    "tags": []
   },
   "source": [
    "Welcome to our analysis of the top 250 IMDb movies of all time. The IMDB website is one of the most popular sources of information for movies and TV Shows. The top 250 list represents the most highly-rated films by the website's users. In this analysis, we will explore the trends and patterns . By the end of this analysis, we hope to gain a deeper understanding of what makes a movie truly great."
   ]
  },
  {
   "cell_type": "markdown",
   "id": "028d43fc",
   "metadata": {
    "papermill": {
     "duration": 0.010039,
     "end_time": "2023-05-07T07:31:27.022290",
     "exception": false,
     "start_time": "2023-05-07T07:31:27.012251",
     "status": "completed"
    },
    "tags": []
   },
   "source": [
    "### **IMPORTING LIBRARIES**"
   ]
  },
  {
   "cell_type": "code",
   "execution_count": 1,
   "id": "d7b150f3",
   "metadata": {
    "execution": {
     "iopub.execute_input": "2023-05-07T07:31:27.045817Z",
     "iopub.status.busy": "2023-05-07T07:31:27.045270Z",
     "iopub.status.idle": "2023-05-07T07:31:28.251619Z",
     "shell.execute_reply": "2023-05-07T07:31:28.250745Z"
    },
    "papermill": {
     "duration": 1.221014,
     "end_time": "2023-05-07T07:31:28.253913",
     "exception": false,
     "start_time": "2023-05-07T07:31:27.032899",
     "status": "completed"
    },
    "tags": []
   },
   "outputs": [
    {
     "name": "stderr",
     "output_type": "stream",
     "text": [
      "/opt/conda/lib/python3.10/site-packages/scipy/__init__.py:146: UserWarning: A NumPy version >=1.16.5 and <1.23.0 is required for this version of SciPy (detected version 1.23.5\n",
      "  warnings.warn(f\"A NumPy version >={np_minversion} and <{np_maxversion}\"\n"
     ]
    }
   ],
   "source": [
    "import numpy as np\n",
    "import pandas as pd\n",
    "import matplotlib.pyplot as plt\n",
    "import seaborn as sns"
   ]
  },
  {
   "cell_type": "markdown",
   "id": "7b35919c",
   "metadata": {
    "papermill": {
     "duration": 0.010088,
     "end_time": "2023-05-07T07:31:28.274463",
     "exception": false,
     "start_time": "2023-05-07T07:31:28.264375",
     "status": "completed"
    },
    "tags": []
   },
   "source": [
    "### **LOADING DATASET**"
   ]
  },
  {
   "cell_type": "code",
   "execution_count": 2,
   "id": "90b61050",
   "metadata": {
    "execution": {
     "iopub.execute_input": "2023-05-07T07:31:28.296579Z",
     "iopub.status.busy": "2023-05-07T07:31:28.296190Z",
     "iopub.status.idle": "2023-05-07T07:31:28.677221Z",
     "shell.execute_reply": "2023-05-07T07:31:28.676400Z"
    },
    "papermill": {
     "duration": 0.394874,
     "end_time": "2023-05-07T07:31:28.679707",
     "exception": false,
     "start_time": "2023-05-07T07:31:28.284833",
     "status": "completed"
    },
    "tags": []
   },
   "outputs": [],
   "source": [
    "df = pd.read_csv(\"/kaggle/input/imdb-top-250-movies/movies.csv\")"
   ]
  },
  {
   "cell_type": "markdown",
   "id": "5053ca74",
   "metadata": {
    "papermill": {
     "duration": 0.010296,
     "end_time": "2023-05-07T07:31:28.700912",
     "exception": false,
     "start_time": "2023-05-07T07:31:28.690616",
     "status": "completed"
    },
    "tags": []
   },
   "source": [
    "### **INSPECTING THE DATASET**"
   ]
  },
  {
   "cell_type": "code",
   "execution_count": 3,
   "id": "20927235",
   "metadata": {
    "execution": {
     "iopub.execute_input": "2023-05-07T07:31:28.724591Z",
     "iopub.status.busy": "2023-05-07T07:31:28.723825Z",
     "iopub.status.idle": "2023-05-07T07:31:28.763507Z",
     "shell.execute_reply": "2023-05-07T07:31:28.762276Z"
    },
    "papermill": {
     "duration": 0.05457,
     "end_time": "2023-05-07T07:31:28.766016",
     "exception": false,
     "start_time": "2023-05-07T07:31:28.711446",
     "status": "completed"
    },
    "tags": []
   },
   "outputs": [
    {
     "data": {
      "text/html": [
       "<div>\n",
       "<style scoped>\n",
       "    .dataframe tbody tr th:only-of-type {\n",
       "        vertical-align: middle;\n",
       "    }\n",
       "\n",
       "    .dataframe tbody tr th {\n",
       "        vertical-align: top;\n",
       "    }\n",
       "\n",
       "    .dataframe thead th {\n",
       "        text-align: right;\n",
       "    }\n",
       "</style>\n",
       "<table border=\"1\" class=\"dataframe\">\n",
       "  <thead>\n",
       "    <tr style=\"text-align: right;\">\n",
       "      <th></th>\n",
       "      <th>rank</th>\n",
       "      <th>movie_id</th>\n",
       "      <th>title</th>\n",
       "      <th>year</th>\n",
       "      <th>link</th>\n",
       "      <th>imbd_votes</th>\n",
       "      <th>imbd_rating</th>\n",
       "      <th>certificate</th>\n",
       "      <th>duration</th>\n",
       "      <th>genre</th>\n",
       "      <th>cast_id</th>\n",
       "      <th>cast_name</th>\n",
       "      <th>director_id</th>\n",
       "      <th>director_name</th>\n",
       "      <th>writer_id</th>\n",
       "      <th>writer_name</th>\n",
       "      <th>storyline</th>\n",
       "      <th>user_id</th>\n",
       "      <th>user_name</th>\n",
       "      <th>review_id</th>\n",
       "      <th>review_title</th>\n",
       "      <th>review_content</th>\n",
       "    </tr>\n",
       "  </thead>\n",
       "  <tbody>\n",
       "    <tr>\n",
       "      <th>0</th>\n",
       "      <td>1</td>\n",
       "      <td>tt0111161</td>\n",
       "      <td>The Shawshank Redemption</td>\n",
       "      <td>1994</td>\n",
       "      <td>https://www.imdb.com/title/tt0111161</td>\n",
       "      <td>2,711,075</td>\n",
       "      <td>9.3</td>\n",
       "      <td>R</td>\n",
       "      <td>2h 22m</td>\n",
       "      <td>Drama</td>\n",
       "      <td>nm0000209,nm0000151,nm0348409,nm0006669,nm0000...</td>\n",
       "      <td>Tim Robbins,Morgan Freeman,Bob Gunton,William ...</td>\n",
       "      <td>nm0001104</td>\n",
       "      <td>Frank Darabont</td>\n",
       "      <td>nm0000175,nm0001104</td>\n",
       "      <td>Stephen King,Frank Darabont</td>\n",
       "      <td>Over the course of several years, two convicts...</td>\n",
       "      <td>ur16161013,ur15311310,ur0265899,ur16117882,ur1...</td>\n",
       "      <td>hitchcockthelegend,Sleepin_Dragon,EyeDunno,ale...</td>\n",
       "      <td>rw2284594,rw6606154,rw1221355,rw1822343,rw1288...</td>\n",
       "      <td>Some birds aren't meant to be caged.,An incred...</td>\n",
       "      <td>The Shawshank Redemption is written and direct...</td>\n",
       "    </tr>\n",
       "    <tr>\n",
       "      <th>1</th>\n",
       "      <td>2</td>\n",
       "      <td>tt0068646</td>\n",
       "      <td>The Godfather</td>\n",
       "      <td>1972</td>\n",
       "      <td>https://www.imdb.com/title/tt0068646</td>\n",
       "      <td>1,882,829</td>\n",
       "      <td>9.2</td>\n",
       "      <td>R</td>\n",
       "      <td>2h 55m</td>\n",
       "      <td>Crime,Drama</td>\n",
       "      <td>nm0000008,nm0000199,nm0001001,nm0144710,nm0000...</td>\n",
       "      <td>Marlon Brando,Al Pacino,James Caan,Richard S. ...</td>\n",
       "      <td>nm0000338</td>\n",
       "      <td>Francis Ford Coppola</td>\n",
       "      <td>nm0701374,nm0000338</td>\n",
       "      <td>Mario Puzo,Francis Ford Coppola</td>\n",
       "      <td>The aging patriarch of an organized crime dyna...</td>\n",
       "      <td>ur24740649,ur86182727,ur15794099,ur15311310,ur...</td>\n",
       "      <td>CalRhys,andrewburgereviews,gogoschka-1,Sleepin...</td>\n",
       "      <td>rw3038370,rw4756923,rw4059579,rw6568526,rw1897...</td>\n",
       "      <td>The Pinnacle Of Flawless Films!,An offer so go...</td>\n",
       "      <td>'The Godfather' is the pinnacle of flawless fi...</td>\n",
       "    </tr>\n",
       "    <tr>\n",
       "      <th>2</th>\n",
       "      <td>3</td>\n",
       "      <td>tt0468569</td>\n",
       "      <td>The Dark Knight</td>\n",
       "      <td>2008</td>\n",
       "      <td>https://www.imdb.com/title/tt0468569</td>\n",
       "      <td>2,684,051</td>\n",
       "      <td>9.0</td>\n",
       "      <td>PG-13</td>\n",
       "      <td>2h 32m</td>\n",
       "      <td>Action,Crime,Drama</td>\n",
       "      <td>nm0000288,nm0005132,nm0001173,nm0000323,nm0350...</td>\n",
       "      <td>Christian Bale,Heath Ledger,Aaron Eckhart,Mich...</td>\n",
       "      <td>nm0634240</td>\n",
       "      <td>Christopher Nolan</td>\n",
       "      <td>tt0468569,nm0634300,nm0634240,nm0275286,tt0468569</td>\n",
       "      <td>Writers,Jonathan Nolan,Christopher Nolan,David...</td>\n",
       "      <td>When the menace known as the Joker wreaks havo...</td>\n",
       "      <td>ur87850731,ur1293485,ur129557514,ur12449122,ur...</td>\n",
       "      <td>MrHeraclius,Smells_Like_Cheese,dseferaj,little...</td>\n",
       "      <td>rw5478826,rw1914442,rw6606026,rw1917099,rw5170...</td>\n",
       "      <td>The Dark Knight,The Batman of our dreams! So m...</td>\n",
       "      <td>Confidently directed, dark, brooding, and pack...</td>\n",
       "    </tr>\n",
       "    <tr>\n",
       "      <th>3</th>\n",
       "      <td>4</td>\n",
       "      <td>tt0071562</td>\n",
       "      <td>The Godfather Part II</td>\n",
       "      <td>1974</td>\n",
       "      <td>https://www.imdb.com/title/tt0071562</td>\n",
       "      <td>1,285,350</td>\n",
       "      <td>9.0</td>\n",
       "      <td>R</td>\n",
       "      <td>3h 22m</td>\n",
       "      <td>Crime,Drama</td>\n",
       "      <td>nm0000199,nm0000380,nm0000473,nm0000134,nm0001...</td>\n",
       "      <td>Al Pacino,Robert Duvall,Diane Keaton,Robert De...</td>\n",
       "      <td>nm0000338</td>\n",
       "      <td>Francis Ford Coppola</td>\n",
       "      <td>nm0000338,nm0701374</td>\n",
       "      <td>Francis Ford Coppola,Mario Puzo</td>\n",
       "      <td>The early life and career of Vito Corleone in ...</td>\n",
       "      <td>ur0176092,ur0688559,ur92260614,ur0200644,ur117...</td>\n",
       "      <td>Nazi_Fighter_David,tfrizzell,umunir-36959,DanB...</td>\n",
       "      <td>rw0135607,rw0135487,rw5049900,rw0135526,rw0135...</td>\n",
       "      <td>Breathtaking in its scope and tragic grandeur....</td>\n",
       "      <td>Coppola's masterpiece is rivaled only by \"The ...</td>\n",
       "    </tr>\n",
       "    <tr>\n",
       "      <th>4</th>\n",
       "      <td>5</td>\n",
       "      <td>tt0050083</td>\n",
       "      <td>12 Angry Men</td>\n",
       "      <td>1957</td>\n",
       "      <td>https://www.imdb.com/title/tt0050083</td>\n",
       "      <td>800,954</td>\n",
       "      <td>9.0</td>\n",
       "      <td>Approved</td>\n",
       "      <td>1h 36m</td>\n",
       "      <td>Crime,Drama</td>\n",
       "      <td>nm0000842,nm0275835,nm0002011,nm0550855,nm0001...</td>\n",
       "      <td>Martin Balsam,John Fiedler,Lee J. Cobb,E.G. Ma...</td>\n",
       "      <td>nm0001486</td>\n",
       "      <td>Sidney Lumet</td>\n",
       "      <td>nm0741627</td>\n",
       "      <td>Reginald Rose</td>\n",
       "      <td>The jury in a New York City murder trial is fr...</td>\n",
       "      <td>ur1318549,ur0643062,ur0688559,ur20552756,ur945...</td>\n",
       "      <td>uds3,tedg,tfrizzell,TheLittleSongbird,henrique...</td>\n",
       "      <td>rw0060044,rw0060025,rw0060034,rw2262425,rw5448...</td>\n",
       "      <td>The over-used term \"classic movie\" really come...</td>\n",
       "      <td>This once-in-a-generation masterpiece simply h...</td>\n",
       "    </tr>\n",
       "  </tbody>\n",
       "</table>\n",
       "</div>"
      ],
      "text/plain": [
       "   rank   movie_id                     title  year  \\\n",
       "0     1  tt0111161  The Shawshank Redemption  1994   \n",
       "1     2  tt0068646             The Godfather  1972   \n",
       "2     3  tt0468569           The Dark Knight  2008   \n",
       "3     4  tt0071562     The Godfather Part II  1974   \n",
       "4     5  tt0050083              12 Angry Men  1957   \n",
       "\n",
       "                                   link imbd_votes  imbd_rating certificate  \\\n",
       "0  https://www.imdb.com/title/tt0111161  2,711,075          9.3           R   \n",
       "1  https://www.imdb.com/title/tt0068646  1,882,829          9.2           R   \n",
       "2  https://www.imdb.com/title/tt0468569  2,684,051          9.0       PG-13   \n",
       "3  https://www.imdb.com/title/tt0071562  1,285,350          9.0           R   \n",
       "4  https://www.imdb.com/title/tt0050083    800,954          9.0    Approved   \n",
       "\n",
       "  duration               genre  \\\n",
       "0   2h 22m               Drama   \n",
       "1   2h 55m         Crime,Drama   \n",
       "2   2h 32m  Action,Crime,Drama   \n",
       "3   3h 22m         Crime,Drama   \n",
       "4   1h 36m         Crime,Drama   \n",
       "\n",
       "                                             cast_id  \\\n",
       "0  nm0000209,nm0000151,nm0348409,nm0006669,nm0000...   \n",
       "1  nm0000008,nm0000199,nm0001001,nm0144710,nm0000...   \n",
       "2  nm0000288,nm0005132,nm0001173,nm0000323,nm0350...   \n",
       "3  nm0000199,nm0000380,nm0000473,nm0000134,nm0001...   \n",
       "4  nm0000842,nm0275835,nm0002011,nm0550855,nm0001...   \n",
       "\n",
       "                                           cast_name director_id  \\\n",
       "0  Tim Robbins,Morgan Freeman,Bob Gunton,William ...   nm0001104   \n",
       "1  Marlon Brando,Al Pacino,James Caan,Richard S. ...   nm0000338   \n",
       "2  Christian Bale,Heath Ledger,Aaron Eckhart,Mich...   nm0634240   \n",
       "3  Al Pacino,Robert Duvall,Diane Keaton,Robert De...   nm0000338   \n",
       "4  Martin Balsam,John Fiedler,Lee J. Cobb,E.G. Ma...   nm0001486   \n",
       "\n",
       "          director_name                                          writer_id  \\\n",
       "0        Frank Darabont                                nm0000175,nm0001104   \n",
       "1  Francis Ford Coppola                                nm0701374,nm0000338   \n",
       "2     Christopher Nolan  tt0468569,nm0634300,nm0634240,nm0275286,tt0468569   \n",
       "3  Francis Ford Coppola                                nm0000338,nm0701374   \n",
       "4          Sidney Lumet                                          nm0741627   \n",
       "\n",
       "                                         writer_name  \\\n",
       "0                        Stephen King,Frank Darabont   \n",
       "1                    Mario Puzo,Francis Ford Coppola   \n",
       "2  Writers,Jonathan Nolan,Christopher Nolan,David...   \n",
       "3                    Francis Ford Coppola,Mario Puzo   \n",
       "4                                      Reginald Rose   \n",
       "\n",
       "                                           storyline  \\\n",
       "0  Over the course of several years, two convicts...   \n",
       "1  The aging patriarch of an organized crime dyna...   \n",
       "2  When the menace known as the Joker wreaks havo...   \n",
       "3  The early life and career of Vito Corleone in ...   \n",
       "4  The jury in a New York City murder trial is fr...   \n",
       "\n",
       "                                             user_id  \\\n",
       "0  ur16161013,ur15311310,ur0265899,ur16117882,ur1...   \n",
       "1  ur24740649,ur86182727,ur15794099,ur15311310,ur...   \n",
       "2  ur87850731,ur1293485,ur129557514,ur12449122,ur...   \n",
       "3  ur0176092,ur0688559,ur92260614,ur0200644,ur117...   \n",
       "4  ur1318549,ur0643062,ur0688559,ur20552756,ur945...   \n",
       "\n",
       "                                           user_name  \\\n",
       "0  hitchcockthelegend,Sleepin_Dragon,EyeDunno,ale...   \n",
       "1  CalRhys,andrewburgereviews,gogoschka-1,Sleepin...   \n",
       "2  MrHeraclius,Smells_Like_Cheese,dseferaj,little...   \n",
       "3  Nazi_Fighter_David,tfrizzell,umunir-36959,DanB...   \n",
       "4  uds3,tedg,tfrizzell,TheLittleSongbird,henrique...   \n",
       "\n",
       "                                           review_id  \\\n",
       "0  rw2284594,rw6606154,rw1221355,rw1822343,rw1288...   \n",
       "1  rw3038370,rw4756923,rw4059579,rw6568526,rw1897...   \n",
       "2  rw5478826,rw1914442,rw6606026,rw1917099,rw5170...   \n",
       "3  rw0135607,rw0135487,rw5049900,rw0135526,rw0135...   \n",
       "4  rw0060044,rw0060025,rw0060034,rw2262425,rw5448...   \n",
       "\n",
       "                                        review_title  \\\n",
       "0  Some birds aren't meant to be caged.,An incred...   \n",
       "1  The Pinnacle Of Flawless Films!,An offer so go...   \n",
       "2  The Dark Knight,The Batman of our dreams! So m...   \n",
       "3  Breathtaking in its scope and tragic grandeur....   \n",
       "4  The over-used term \"classic movie\" really come...   \n",
       "\n",
       "                                      review_content  \n",
       "0  The Shawshank Redemption is written and direct...  \n",
       "1  'The Godfather' is the pinnacle of flawless fi...  \n",
       "2  Confidently directed, dark, brooding, and pack...  \n",
       "3  Coppola's masterpiece is rivaled only by \"The ...  \n",
       "4  This once-in-a-generation masterpiece simply h...  "
      ]
     },
     "execution_count": 3,
     "metadata": {},
     "output_type": "execute_result"
    }
   ],
   "source": [
    "pd.set_option('display.max_columns', None)\n",
    "df.head()"
   ]
  },
  {
   "cell_type": "code",
   "execution_count": 4,
   "id": "337cc06f",
   "metadata": {
    "execution": {
     "iopub.execute_input": "2023-05-07T07:31:28.790092Z",
     "iopub.status.busy": "2023-05-07T07:31:28.789715Z",
     "iopub.status.idle": "2023-05-07T07:31:28.795823Z",
     "shell.execute_reply": "2023-05-07T07:31:28.794863Z"
    },
    "papermill": {
     "duration": 0.02033,
     "end_time": "2023-05-07T07:31:28.797847",
     "exception": false,
     "start_time": "2023-05-07T07:31:28.777517",
     "status": "completed"
    },
    "tags": []
   },
   "outputs": [
    {
     "data": {
      "text/plain": [
       "(250, 22)"
      ]
     },
     "execution_count": 4,
     "metadata": {},
     "output_type": "execute_result"
    }
   ],
   "source": [
    "df.shape"
   ]
  },
  {
   "cell_type": "code",
   "execution_count": 5,
   "id": "f667c5e1",
   "metadata": {
    "execution": {
     "iopub.execute_input": "2023-05-07T07:31:28.821887Z",
     "iopub.status.busy": "2023-05-07T07:31:28.821513Z",
     "iopub.status.idle": "2023-05-07T07:31:28.846442Z",
     "shell.execute_reply": "2023-05-07T07:31:28.845314Z"
    },
    "papermill": {
     "duration": 0.039547,
     "end_time": "2023-05-07T07:31:28.848674",
     "exception": false,
     "start_time": "2023-05-07T07:31:28.809127",
     "status": "completed"
    },
    "tags": []
   },
   "outputs": [
    {
     "data": {
      "text/html": [
       "<div>\n",
       "<style scoped>\n",
       "    .dataframe tbody tr th:only-of-type {\n",
       "        vertical-align: middle;\n",
       "    }\n",
       "\n",
       "    .dataframe tbody tr th {\n",
       "        vertical-align: top;\n",
       "    }\n",
       "\n",
       "    .dataframe thead th {\n",
       "        text-align: right;\n",
       "    }\n",
       "</style>\n",
       "<table border=\"1\" class=\"dataframe\">\n",
       "  <thead>\n",
       "    <tr style=\"text-align: right;\">\n",
       "      <th></th>\n",
       "      <th>rank</th>\n",
       "      <th>year</th>\n",
       "      <th>imbd_rating</th>\n",
       "    </tr>\n",
       "  </thead>\n",
       "  <tbody>\n",
       "    <tr>\n",
       "      <th>count</th>\n",
       "      <td>250.000000</td>\n",
       "      <td>250.000000</td>\n",
       "      <td>250.000000</td>\n",
       "    </tr>\n",
       "    <tr>\n",
       "      <th>mean</th>\n",
       "      <td>125.500000</td>\n",
       "      <td>1986.360000</td>\n",
       "      <td>8.306800</td>\n",
       "    </tr>\n",
       "    <tr>\n",
       "      <th>std</th>\n",
       "      <td>72.312977</td>\n",
       "      <td>25.125356</td>\n",
       "      <td>0.229006</td>\n",
       "    </tr>\n",
       "    <tr>\n",
       "      <th>min</th>\n",
       "      <td>1.000000</td>\n",
       "      <td>1921.000000</td>\n",
       "      <td>8.000000</td>\n",
       "    </tr>\n",
       "    <tr>\n",
       "      <th>25%</th>\n",
       "      <td>63.250000</td>\n",
       "      <td>1966.250000</td>\n",
       "      <td>8.100000</td>\n",
       "    </tr>\n",
       "    <tr>\n",
       "      <th>50%</th>\n",
       "      <td>125.500000</td>\n",
       "      <td>1994.000000</td>\n",
       "      <td>8.200000</td>\n",
       "    </tr>\n",
       "    <tr>\n",
       "      <th>75%</th>\n",
       "      <td>187.750000</td>\n",
       "      <td>2006.000000</td>\n",
       "      <td>8.400000</td>\n",
       "    </tr>\n",
       "    <tr>\n",
       "      <th>max</th>\n",
       "      <td>250.000000</td>\n",
       "      <td>2022.000000</td>\n",
       "      <td>9.300000</td>\n",
       "    </tr>\n",
       "  </tbody>\n",
       "</table>\n",
       "</div>"
      ],
      "text/plain": [
       "             rank         year  imbd_rating\n",
       "count  250.000000   250.000000   250.000000\n",
       "mean   125.500000  1986.360000     8.306800\n",
       "std     72.312977    25.125356     0.229006\n",
       "min      1.000000  1921.000000     8.000000\n",
       "25%     63.250000  1966.250000     8.100000\n",
       "50%    125.500000  1994.000000     8.200000\n",
       "75%    187.750000  2006.000000     8.400000\n",
       "max    250.000000  2022.000000     9.300000"
      ]
     },
     "execution_count": 5,
     "metadata": {},
     "output_type": "execute_result"
    }
   ],
   "source": [
    "df.describe()"
   ]
  },
  {
   "cell_type": "code",
   "execution_count": 6,
   "id": "2303a7b0",
   "metadata": {
    "execution": {
     "iopub.execute_input": "2023-05-07T07:31:28.873367Z",
     "iopub.status.busy": "2023-05-07T07:31:28.872586Z",
     "iopub.status.idle": "2023-05-07T07:31:28.898165Z",
     "shell.execute_reply": "2023-05-07T07:31:28.896783Z"
    },
    "papermill": {
     "duration": 0.0407,
     "end_time": "2023-05-07T07:31:28.900356",
     "exception": false,
     "start_time": "2023-05-07T07:31:28.859656",
     "status": "completed"
    },
    "tags": []
   },
   "outputs": [
    {
     "name": "stdout",
     "output_type": "stream",
     "text": [
      "<class 'pandas.core.frame.DataFrame'>\n",
      "RangeIndex: 250 entries, 0 to 249\n",
      "Data columns (total 22 columns):\n",
      " #   Column          Non-Null Count  Dtype  \n",
      "---  ------          --------------  -----  \n",
      " 0   rank            250 non-null    int64  \n",
      " 1   movie_id        250 non-null    object \n",
      " 2   title           250 non-null    object \n",
      " 3   year            250 non-null    int64  \n",
      " 4   link            250 non-null    object \n",
      " 5   imbd_votes      250 non-null    object \n",
      " 6   imbd_rating     250 non-null    float64\n",
      " 7   certificate     249 non-null    object \n",
      " 8   duration        250 non-null    object \n",
      " 9   genre           250 non-null    object \n",
      " 10  cast_id         250 non-null    object \n",
      " 11  cast_name       250 non-null    object \n",
      " 12  director_id     250 non-null    object \n",
      " 13  director_name   250 non-null    object \n",
      " 14  writer_id       250 non-null    object \n",
      " 15  writer_name     250 non-null    object \n",
      " 16  storyline       250 non-null    object \n",
      " 17  user_id         250 non-null    object \n",
      " 18  user_name       250 non-null    object \n",
      " 19  review_id       250 non-null    object \n",
      " 20  review_title    250 non-null    object \n",
      " 21  review_content  250 non-null    object \n",
      "dtypes: float64(1), int64(2), object(19)\n",
      "memory usage: 43.1+ KB\n"
     ]
    }
   ],
   "source": [
    "df.info()"
   ]
  },
  {
   "cell_type": "markdown",
   "id": "7ec9e09e",
   "metadata": {
    "papermill": {
     "duration": 0.010675,
     "end_time": "2023-05-07T07:31:28.922492",
     "exception": false,
     "start_time": "2023-05-07T07:31:28.911817",
     "status": "completed"
    },
    "tags": []
   },
   "source": [
    "### **DROPPING THE COLUMNS WHICH WE WILL BE NOT USING**"
   ]
  },
  {
   "cell_type": "code",
   "execution_count": 7,
   "id": "76daf27b",
   "metadata": {
    "execution": {
     "iopub.execute_input": "2023-05-07T07:31:28.946319Z",
     "iopub.status.busy": "2023-05-07T07:31:28.945908Z",
     "iopub.status.idle": "2023-05-07T07:31:28.952975Z",
     "shell.execute_reply": "2023-05-07T07:31:28.951862Z"
    },
    "papermill": {
     "duration": 0.021473,
     "end_time": "2023-05-07T07:31:28.954959",
     "exception": false,
     "start_time": "2023-05-07T07:31:28.933486",
     "status": "completed"
    },
    "tags": []
   },
   "outputs": [
    {
     "data": {
      "text/plain": [
       "Index(['rank', 'movie_id', 'title', 'year', 'link', 'imbd_votes',\n",
       "       'imbd_rating', 'certificate', 'duration', 'genre', 'cast_id',\n",
       "       'cast_name', 'director_id', 'director_name', 'writer_id', 'writer_name',\n",
       "       'storyline', 'user_id', 'user_name', 'review_id', 'review_title',\n",
       "       'review_content'],\n",
       "      dtype='object')"
      ]
     },
     "execution_count": 7,
     "metadata": {},
     "output_type": "execute_result"
    }
   ],
   "source": [
    "df.columns"
   ]
  },
  {
   "cell_type": "code",
   "execution_count": 8,
   "id": "ec9e3e56",
   "metadata": {
    "execution": {
     "iopub.execute_input": "2023-05-07T07:31:28.980740Z",
     "iopub.status.busy": "2023-05-07T07:31:28.979742Z",
     "iopub.status.idle": "2023-05-07T07:31:28.995876Z",
     "shell.execute_reply": "2023-05-07T07:31:28.994824Z"
    },
    "papermill": {
     "duration": 0.031116,
     "end_time": "2023-05-07T07:31:28.997989",
     "exception": false,
     "start_time": "2023-05-07T07:31:28.966873",
     "status": "completed"
    },
    "tags": []
   },
   "outputs": [
    {
     "data": {
      "text/html": [
       "<div>\n",
       "<style scoped>\n",
       "    .dataframe tbody tr th:only-of-type {\n",
       "        vertical-align: middle;\n",
       "    }\n",
       "\n",
       "    .dataframe tbody tr th {\n",
       "        vertical-align: top;\n",
       "    }\n",
       "\n",
       "    .dataframe thead th {\n",
       "        text-align: right;\n",
       "    }\n",
       "</style>\n",
       "<table border=\"1\" class=\"dataframe\">\n",
       "  <thead>\n",
       "    <tr style=\"text-align: right;\">\n",
       "      <th></th>\n",
       "      <th>rank</th>\n",
       "      <th>title</th>\n",
       "      <th>year</th>\n",
       "      <th>imbd_votes</th>\n",
       "      <th>imbd_rating</th>\n",
       "      <th>certificate</th>\n",
       "      <th>duration</th>\n",
       "      <th>genre</th>\n",
       "      <th>director_name</th>\n",
       "    </tr>\n",
       "  </thead>\n",
       "  <tbody>\n",
       "    <tr>\n",
       "      <th>0</th>\n",
       "      <td>1</td>\n",
       "      <td>The Shawshank Redemption</td>\n",
       "      <td>1994</td>\n",
       "      <td>2,711,075</td>\n",
       "      <td>9.3</td>\n",
       "      <td>R</td>\n",
       "      <td>2h 22m</td>\n",
       "      <td>Drama</td>\n",
       "      <td>Frank Darabont</td>\n",
       "    </tr>\n",
       "    <tr>\n",
       "      <th>1</th>\n",
       "      <td>2</td>\n",
       "      <td>The Godfather</td>\n",
       "      <td>1972</td>\n",
       "      <td>1,882,829</td>\n",
       "      <td>9.2</td>\n",
       "      <td>R</td>\n",
       "      <td>2h 55m</td>\n",
       "      <td>Crime,Drama</td>\n",
       "      <td>Francis Ford Coppola</td>\n",
       "    </tr>\n",
       "  </tbody>\n",
       "</table>\n",
       "</div>"
      ],
      "text/plain": [
       "   rank                     title  year imbd_votes  imbd_rating certificate  \\\n",
       "0     1  The Shawshank Redemption  1994  2,711,075          9.3           R   \n",
       "1     2             The Godfather  1972  1,882,829          9.2           R   \n",
       "\n",
       "  duration        genre         director_name  \n",
       "0   2h 22m        Drama        Frank Darabont  \n",
       "1   2h 55m  Crime,Drama  Francis Ford Coppola  "
      ]
     },
     "execution_count": 8,
     "metadata": {},
     "output_type": "execute_result"
    }
   ],
   "source": [
    "df.drop(['movie_id','link','cast_id','director_id', 'writer_id', 'writer_name',\n",
    "       'storyline', 'user_id', 'user_name', 'review_id', 'review_title',\n",
    "       'review_content','cast_name'],axis=1,inplace=True)\n",
    "df.head(2)"
   ]
  },
  {
   "cell_type": "code",
   "execution_count": 9,
   "id": "d4875ba7",
   "metadata": {
    "execution": {
     "iopub.execute_input": "2023-05-07T07:31:29.023611Z",
     "iopub.status.busy": "2023-05-07T07:31:29.022767Z",
     "iopub.status.idle": "2023-05-07T07:31:29.029571Z",
     "shell.execute_reply": "2023-05-07T07:31:29.028531Z"
    },
    "papermill": {
     "duration": 0.02198,
     "end_time": "2023-05-07T07:31:29.031688",
     "exception": false,
     "start_time": "2023-05-07T07:31:29.009708",
     "status": "completed"
    },
    "tags": []
   },
   "outputs": [
    {
     "data": {
      "text/plain": [
       "(250, 9)"
      ]
     },
     "execution_count": 9,
     "metadata": {},
     "output_type": "execute_result"
    }
   ],
   "source": [
    "df.shape"
   ]
  },
  {
   "cell_type": "markdown",
   "id": "b77a9d7b",
   "metadata": {
    "papermill": {
     "duration": 0.011707,
     "end_time": "2023-05-07T07:31:29.055277",
     "exception": false,
     "start_time": "2023-05-07T07:31:29.043570",
     "status": "completed"
    },
    "tags": []
   },
   "source": [
    "### **DATA CLEANING AND PREPROCESSING**"
   ]
  },
  {
   "cell_type": "code",
   "execution_count": 10,
   "id": "3992b69b",
   "metadata": {
    "execution": {
     "iopub.execute_input": "2023-05-07T07:31:29.080695Z",
     "iopub.status.busy": "2023-05-07T07:31:29.080183Z",
     "iopub.status.idle": "2023-05-07T07:31:29.094964Z",
     "shell.execute_reply": "2023-05-07T07:31:29.093744Z"
    },
    "papermill": {
     "duration": 0.030141,
     "end_time": "2023-05-07T07:31:29.097377",
     "exception": false,
     "start_time": "2023-05-07T07:31:29.067236",
     "status": "completed"
    },
    "tags": []
   },
   "outputs": [
    {
     "data": {
      "text/html": [
       "<div>\n",
       "<style scoped>\n",
       "    .dataframe tbody tr th:only-of-type {\n",
       "        vertical-align: middle;\n",
       "    }\n",
       "\n",
       "    .dataframe tbody tr th {\n",
       "        vertical-align: top;\n",
       "    }\n",
       "\n",
       "    .dataframe thead th {\n",
       "        text-align: right;\n",
       "    }\n",
       "</style>\n",
       "<table border=\"1\" class=\"dataframe\">\n",
       "  <thead>\n",
       "    <tr style=\"text-align: right;\">\n",
       "      <th></th>\n",
       "      <th>rank</th>\n",
       "      <th>title</th>\n",
       "      <th>year</th>\n",
       "      <th>imdb_votes</th>\n",
       "      <th>imdb_rating</th>\n",
       "      <th>certificate</th>\n",
       "      <th>duration</th>\n",
       "      <th>genre</th>\n",
       "      <th>director_name</th>\n",
       "    </tr>\n",
       "  </thead>\n",
       "  <tbody>\n",
       "    <tr>\n",
       "      <th>0</th>\n",
       "      <td>1</td>\n",
       "      <td>The Shawshank Redemption</td>\n",
       "      <td>1994</td>\n",
       "      <td>2,711,075</td>\n",
       "      <td>9.3</td>\n",
       "      <td>R</td>\n",
       "      <td>2h 22m</td>\n",
       "      <td>Drama</td>\n",
       "      <td>Frank Darabont</td>\n",
       "    </tr>\n",
       "    <tr>\n",
       "      <th>1</th>\n",
       "      <td>2</td>\n",
       "      <td>The Godfather</td>\n",
       "      <td>1972</td>\n",
       "      <td>1,882,829</td>\n",
       "      <td>9.2</td>\n",
       "      <td>R</td>\n",
       "      <td>2h 55m</td>\n",
       "      <td>Crime,Drama</td>\n",
       "      <td>Francis Ford Coppola</td>\n",
       "    </tr>\n",
       "  </tbody>\n",
       "</table>\n",
       "</div>"
      ],
      "text/plain": [
       "   rank                     title  year imdb_votes  imdb_rating certificate  \\\n",
       "0     1  The Shawshank Redemption  1994  2,711,075          9.3           R   \n",
       "1     2             The Godfather  1972  1,882,829          9.2           R   \n",
       "\n",
       "  duration        genre         director_name  \n",
       "0   2h 22m        Drama        Frank Darabont  \n",
       "1   2h 55m  Crime,Drama  Francis Ford Coppola  "
      ]
     },
     "execution_count": 10,
     "metadata": {},
     "output_type": "execute_result"
    }
   ],
   "source": [
    "df.rename(columns = {'imbd_votes':'imdb_votes','imbd_rating':'imdb_rating'},inplace = True) #renaming the columns\n",
    "df.head(2)"
   ]
  },
  {
   "cell_type": "code",
   "execution_count": 11,
   "id": "9fdaa351",
   "metadata": {
    "execution": {
     "iopub.execute_input": "2023-05-07T07:31:29.123504Z",
     "iopub.status.busy": "2023-05-07T07:31:29.123077Z",
     "iopub.status.idle": "2023-05-07T07:31:29.131201Z",
     "shell.execute_reply": "2023-05-07T07:31:29.130134Z"
    },
    "papermill": {
     "duration": 0.023892,
     "end_time": "2023-05-07T07:31:29.133235",
     "exception": false,
     "start_time": "2023-05-07T07:31:29.109343",
     "status": "completed"
    },
    "tags": []
   },
   "outputs": [],
   "source": [
    "df['main_genre'] = df['genre'].str.split(',').str[0]              #We will be creating a New Columns to extract the main genre and decade\n",
    "df['decade'] = (df['year'] // 10) * 10      "
   ]
  },
  {
   "cell_type": "code",
   "execution_count": 12,
   "id": "cc1aab49",
   "metadata": {
    "execution": {
     "iopub.execute_input": "2023-05-07T07:31:29.159750Z",
     "iopub.status.busy": "2023-05-07T07:31:29.158860Z",
     "iopub.status.idle": "2023-05-07T07:31:29.167204Z",
     "shell.execute_reply": "2023-05-07T07:31:29.166137Z"
    },
    "papermill": {
     "duration": 0.023583,
     "end_time": "2023-05-07T07:31:29.169105",
     "exception": false,
     "start_time": "2023-05-07T07:31:29.145522",
     "status": "completed"
    },
    "tags": []
   },
   "outputs": [],
   "source": [
    "def min(duration):\n",
    "    if 'h' in duration and 'm' in duration:\n",
    "        return (int(duration.split(' ')[0].replace('h', '')) * 60) + int(duration.split(' ')[1].replace('m', ''))\n",
    "    elif 'h' in duration and 'm' not in duration:\n",
    "        return int(duration.replace('h', '')) * 60\n",
    "    elif 'm' in duration and 'h' not in duration:\n",
    "        return int(duration.replace('m', ''))\n",
    "    else:\n",
    "        return None                                              #creating a new column to extract minutes from duration column\n",
    "\n",
    "df['minutes'] = df['duration'].apply(min)"
   ]
  },
  {
   "cell_type": "code",
   "execution_count": 13,
   "id": "2cd3f794",
   "metadata": {
    "execution": {
     "iopub.execute_input": "2023-05-07T07:31:29.195296Z",
     "iopub.status.busy": "2023-05-07T07:31:29.194610Z",
     "iopub.status.idle": "2023-05-07T07:31:29.203003Z",
     "shell.execute_reply": "2023-05-07T07:31:29.202317Z"
    },
    "papermill": {
     "duration": 0.023843,
     "end_time": "2023-05-07T07:31:29.204912",
     "exception": false,
     "start_time": "2023-05-07T07:31:29.181069",
     "status": "completed"
    },
    "tags": []
   },
   "outputs": [
    {
     "data": {
      "text/plain": [
       "certificate    1\n",
       "rank           0\n",
       "title          0\n",
       "year           0\n",
       "imdb_votes     0\n",
       "dtype: int64"
      ]
     },
     "execution_count": 13,
     "metadata": {},
     "output_type": "execute_result"
    }
   ],
   "source": [
    "df.isnull().sum().sort_values(ascending=False).head() #checking null values"
   ]
  },
  {
   "cell_type": "code",
   "execution_count": 14,
   "id": "de875e56",
   "metadata": {
    "execution": {
     "iopub.execute_input": "2023-05-07T07:31:29.231682Z",
     "iopub.status.busy": "2023-05-07T07:31:29.231264Z",
     "iopub.status.idle": "2023-05-07T07:31:29.241450Z",
     "shell.execute_reply": "2023-05-07T07:31:29.240474Z"
    },
    "papermill": {
     "duration": 0.025634,
     "end_time": "2023-05-07T07:31:29.243409",
     "exception": false,
     "start_time": "2023-05-07T07:31:29.217775",
     "status": "completed"
    },
    "tags": []
   },
   "outputs": [
    {
     "data": {
      "text/plain": [
       "0"
      ]
     },
     "execution_count": 14,
     "metadata": {},
     "output_type": "execute_result"
    }
   ],
   "source": [
    "mode = df['certificate'].mode()[0]\n",
    "df['certificate'] = df['certificate'].fillna(mode)   #imputing the null values with mode\n",
    "df.isnull().sum().sum()"
   ]
  },
  {
   "cell_type": "code",
   "execution_count": 15,
   "id": "f7846362",
   "metadata": {
    "execution": {
     "iopub.execute_input": "2023-05-07T07:31:29.269230Z",
     "iopub.status.busy": "2023-05-07T07:31:29.268832Z",
     "iopub.status.idle": "2023-05-07T07:31:29.282389Z",
     "shell.execute_reply": "2023-05-07T07:31:29.281079Z"
    },
    "papermill": {
     "duration": 0.028996,
     "end_time": "2023-05-07T07:31:29.284650",
     "exception": false,
     "start_time": "2023-05-07T07:31:29.255654",
     "status": "completed"
    },
    "tags": []
   },
   "outputs": [
    {
     "name": "stdout",
     "output_type": "stream",
     "text": [
      "<class 'pandas.core.frame.DataFrame'>\n",
      "RangeIndex: 250 entries, 0 to 249\n",
      "Data columns (total 12 columns):\n",
      " #   Column         Non-Null Count  Dtype  \n",
      "---  ------         --------------  -----  \n",
      " 0   rank           250 non-null    int64  \n",
      " 1   title          250 non-null    object \n",
      " 2   year           250 non-null    int64  \n",
      " 3   imdb_votes     250 non-null    object \n",
      " 4   imdb_rating    250 non-null    float64\n",
      " 5   certificate    250 non-null    object \n",
      " 6   duration       250 non-null    object \n",
      " 7   genre          250 non-null    object \n",
      " 8   director_name  250 non-null    object \n",
      " 9   main_genre     250 non-null    object \n",
      " 10  decade         250 non-null    int64  \n",
      " 11  minutes        250 non-null    int64  \n",
      "dtypes: float64(1), int64(4), object(7)\n",
      "memory usage: 23.6+ KB\n"
     ]
    }
   ],
   "source": [
    "df.info()"
   ]
  },
  {
   "cell_type": "code",
   "execution_count": 16,
   "id": "410c1453",
   "metadata": {
    "execution": {
     "iopub.execute_input": "2023-05-07T07:31:29.310901Z",
     "iopub.status.busy": "2023-05-07T07:31:29.310552Z",
     "iopub.status.idle": "2023-05-07T07:31:29.320813Z",
     "shell.execute_reply": "2023-05-07T07:31:29.319952Z"
    },
    "papermill": {
     "duration": 0.025754,
     "end_time": "2023-05-07T07:31:29.322776",
     "exception": false,
     "start_time": "2023-05-07T07:31:29.297022",
     "status": "completed"
    },
    "tags": []
   },
   "outputs": [
    {
     "data": {
      "text/html": [
       "<div>\n",
       "<style scoped>\n",
       "    .dataframe tbody tr th:only-of-type {\n",
       "        vertical-align: middle;\n",
       "    }\n",
       "\n",
       "    .dataframe tbody tr th {\n",
       "        vertical-align: top;\n",
       "    }\n",
       "\n",
       "    .dataframe thead th {\n",
       "        text-align: right;\n",
       "    }\n",
       "</style>\n",
       "<table border=\"1\" class=\"dataframe\">\n",
       "  <thead>\n",
       "    <tr style=\"text-align: right;\">\n",
       "      <th></th>\n",
       "      <th>imdb_votes</th>\n",
       "    </tr>\n",
       "  </thead>\n",
       "  <tbody>\n",
       "    <tr>\n",
       "      <th>0</th>\n",
       "      <td>2,711,075</td>\n",
       "    </tr>\n",
       "    <tr>\n",
       "      <th>1</th>\n",
       "      <td>1,882,829</td>\n",
       "    </tr>\n",
       "  </tbody>\n",
       "</table>\n",
       "</div>"
      ],
      "text/plain": [
       "  imdb_votes\n",
       "0  2,711,075\n",
       "1  1,882,829"
      ]
     },
     "execution_count": 16,
     "metadata": {},
     "output_type": "execute_result"
    }
   ],
   "source": [
    "df[['imdb_votes']].head(2)"
   ]
  },
  {
   "cell_type": "code",
   "execution_count": 17,
   "id": "84b90508",
   "metadata": {
    "execution": {
     "iopub.execute_input": "2023-05-07T07:31:29.349177Z",
     "iopub.status.busy": "2023-05-07T07:31:29.348416Z",
     "iopub.status.idle": "2023-05-07T07:31:29.354618Z",
     "shell.execute_reply": "2023-05-07T07:31:29.353621Z"
    },
    "papermill": {
     "duration": 0.021877,
     "end_time": "2023-05-07T07:31:29.356896",
     "exception": false,
     "start_time": "2023-05-07T07:31:29.335019",
     "status": "completed"
    },
    "tags": []
   },
   "outputs": [],
   "source": [
    "df['imdb_votes'] = df['imdb_votes'].str.replace(',', '').astype(np.int64)  #change dtype to int and replacing the comma"
   ]
  },
  {
   "cell_type": "code",
   "execution_count": 18,
   "id": "9e680959",
   "metadata": {
    "execution": {
     "iopub.execute_input": "2023-05-07T07:31:29.383264Z",
     "iopub.status.busy": "2023-05-07T07:31:29.382902Z",
     "iopub.status.idle": "2023-05-07T07:31:29.396540Z",
     "shell.execute_reply": "2023-05-07T07:31:29.395523Z"
    },
    "papermill": {
     "duration": 0.029546,
     "end_time": "2023-05-07T07:31:29.398745",
     "exception": false,
     "start_time": "2023-05-07T07:31:29.369199",
     "status": "completed"
    },
    "tags": []
   },
   "outputs": [
    {
     "data": {
      "text/html": [
       "<div>\n",
       "<style scoped>\n",
       "    .dataframe tbody tr th:only-of-type {\n",
       "        vertical-align: middle;\n",
       "    }\n",
       "\n",
       "    .dataframe tbody tr th {\n",
       "        vertical-align: top;\n",
       "    }\n",
       "\n",
       "    .dataframe thead th {\n",
       "        text-align: right;\n",
       "    }\n",
       "</style>\n",
       "<table border=\"1\" class=\"dataframe\">\n",
       "  <thead>\n",
       "    <tr style=\"text-align: right;\">\n",
       "      <th></th>\n",
       "      <th>rank</th>\n",
       "      <th>title</th>\n",
       "      <th>year</th>\n",
       "      <th>imdb_votes</th>\n",
       "      <th>imdb_rating</th>\n",
       "      <th>certificate</th>\n",
       "      <th>duration</th>\n",
       "      <th>genre</th>\n",
       "      <th>director_name</th>\n",
       "      <th>main_genre</th>\n",
       "      <th>decade</th>\n",
       "      <th>minutes</th>\n",
       "    </tr>\n",
       "  </thead>\n",
       "  <tbody>\n",
       "    <tr>\n",
       "      <th>0</th>\n",
       "      <td>1</td>\n",
       "      <td>The Shawshank Redemption</td>\n",
       "      <td>1994</td>\n",
       "      <td>2711075</td>\n",
       "      <td>9.3</td>\n",
       "      <td>R</td>\n",
       "      <td>2h 22m</td>\n",
       "      <td>Drama</td>\n",
       "      <td>Frank Darabont</td>\n",
       "      <td>Drama</td>\n",
       "      <td>1990</td>\n",
       "      <td>142</td>\n",
       "    </tr>\n",
       "    <tr>\n",
       "      <th>1</th>\n",
       "      <td>2</td>\n",
       "      <td>The Godfather</td>\n",
       "      <td>1972</td>\n",
       "      <td>1882829</td>\n",
       "      <td>9.2</td>\n",
       "      <td>R</td>\n",
       "      <td>2h 55m</td>\n",
       "      <td>Crime,Drama</td>\n",
       "      <td>Francis Ford Coppola</td>\n",
       "      <td>Crime</td>\n",
       "      <td>1970</td>\n",
       "      <td>175</td>\n",
       "    </tr>\n",
       "  </tbody>\n",
       "</table>\n",
       "</div>"
      ],
      "text/plain": [
       "   rank                     title  year  imdb_votes  imdb_rating certificate  \\\n",
       "0     1  The Shawshank Redemption  1994     2711075          9.3           R   \n",
       "1     2             The Godfather  1972     1882829          9.2           R   \n",
       "\n",
       "  duration        genre         director_name main_genre  decade  minutes  \n",
       "0   2h 22m        Drama        Frank Darabont      Drama    1990      142  \n",
       "1   2h 55m  Crime,Drama  Francis Ford Coppola      Crime    1970      175  "
      ]
     },
     "execution_count": 18,
     "metadata": {},
     "output_type": "execute_result"
    }
   ],
   "source": [
    "df.head(2)"
   ]
  },
  {
   "cell_type": "markdown",
   "id": "19239e7d",
   "metadata": {
    "papermill": {
     "duration": 0.011764,
     "end_time": "2023-05-07T07:31:29.423188",
     "exception": false,
     "start_time": "2023-05-07T07:31:29.411424",
     "status": "completed"
    },
    "tags": []
   },
   "source": [
    "### **DATA VISUALISATION**"
   ]
  },
  {
   "cell_type": "markdown",
   "id": "99ed269c",
   "metadata": {
    "papermill": {
     "duration": 0.012081,
     "end_time": "2023-05-07T07:31:29.447734",
     "exception": false,
     "start_time": "2023-05-07T07:31:29.435653",
     "status": "completed"
    },
    "tags": []
   },
   "source": [
    "#### 1. Correlation Matrix"
   ]
  },
  {
   "cell_type": "code",
   "execution_count": 19,
   "id": "5faf1cda",
   "metadata": {
    "execution": {
     "iopub.execute_input": "2023-05-07T07:31:29.474964Z",
     "iopub.status.busy": "2023-05-07T07:31:29.473744Z",
     "iopub.status.idle": "2023-05-07T07:31:29.875987Z",
     "shell.execute_reply": "2023-05-07T07:31:29.874941Z"
    },
    "papermill": {
     "duration": 0.418205,
     "end_time": "2023-05-07T07:31:29.878276",
     "exception": false,
     "start_time": "2023-05-07T07:31:29.460071",
     "status": "completed"
    },
    "tags": []
   },
   "outputs": [
    {
     "name": "stderr",
     "output_type": "stream",
     "text": [
      "/tmp/ipykernel_20/164574698.py:1: FutureWarning: The default value of numeric_only in DataFrame.corr is deprecated. In a future version, it will default to False. Select only valid columns or specify the value of numeric_only to silence this warning.\n",
      "  correlation_matrix = df.corr()\n"
     ]
    },
    {
     "data": {
      "text/plain": [
       "<AxesSubplot: >"
      ]
     },
     "execution_count": 19,
     "metadata": {},
     "output_type": "execute_result"
    },
    {
     "data": {
      "image/png": "[encoded data removed]",
      "text/plain": [
       "<Figure size 640x480 with 2 Axes>"
      ]
     },
     "metadata": {},
     "output_type": "display_data"
    }
   ],
   "source": [
    "correlation_matrix = df.corr()\n",
    "sns.heatmap(correlation_matrix, annot=True, cmap='coolwarm')"
   ]
  },
  {
   "cell_type": "markdown",
   "id": "82ea9d93",
   "metadata": {
    "papermill": {
     "duration": 0.012974,
     "end_time": "2023-05-07T07:31:29.905262",
     "exception": false,
     "start_time": "2023-05-07T07:31:29.892288",
     "status": "completed"
    },
    "tags": []
   },
   "source": [
    "Insight:- There is a **moderate positive correlation** **(0.6)** between the IMDB rating and the number of IMDB votes. This means that as the number of votes increases, the IMDB rating increase as well"
   ]
  },
  {
   "cell_type": "markdown",
   "id": "dec1bdef",
   "metadata": {
    "papermill": {
     "duration": 0.013718,
     "end_time": "2023-05-07T07:31:29.932394",
     "exception": false,
     "start_time": "2023-05-07T07:31:29.918676",
     "status": "completed"
    },
    "tags": []
   },
   "source": [
    "#### 2. Genre with Movie count"
   ]
  },
  {
   "cell_type": "code",
   "execution_count": 20,
   "id": "27dbf2fd",
   "metadata": {
    "execution": {
     "iopub.execute_input": "2023-05-07T07:31:29.960646Z",
     "iopub.status.busy": "2023-05-07T07:31:29.960043Z",
     "iopub.status.idle": "2023-05-07T07:31:29.968830Z",
     "shell.execute_reply": "2023-05-07T07:31:29.967858Z"
    },
    "papermill": {
     "duration": 0.025249,
     "end_time": "2023-05-07T07:31:29.970924",
     "exception": false,
     "start_time": "2023-05-07T07:31:29.945675",
     "status": "completed"
    },
    "tags": []
   },
   "outputs": [
    {
     "data": {
      "text/plain": [
       "main_genre\n",
       "Drama        68\n",
       "Action       45\n",
       "Crime        35\n",
       "Animation    23\n",
       "Biography    23\n",
       "Comedy       23\n",
       "Adventure    22\n",
       "Horror        4\n",
       "Mystery       4\n",
       "Western       2\n",
       "Film-Noir     1\n",
       "Name: title, dtype: int64"
      ]
     },
     "execution_count": 20,
     "metadata": {},
     "output_type": "execute_result"
    }
   ],
   "source": [
    "genre_counts = df.groupby('main_genre')['title'].count().sort_values(ascending=False)  #groupping the genre and counting the movie title\n",
    "genre_counts"
   ]
  },
  {
   "cell_type": "code",
   "execution_count": 21,
   "id": "3afdb5aa",
   "metadata": {
    "execution": {
     "iopub.execute_input": "2023-05-07T07:31:29.999966Z",
     "iopub.status.busy": "2023-05-07T07:31:29.999566Z",
     "iopub.status.idle": "2023-05-07T07:31:30.307594Z",
     "shell.execute_reply": "2023-05-07T07:31:30.306495Z"
    },
    "papermill": {
     "duration": 0.325435,
     "end_time": "2023-05-07T07:31:30.309979",
     "exception": false,
     "start_time": "2023-05-07T07:31:29.984544",
     "status": "completed"
    },
    "tags": []
   },
   "outputs": [
    {
     "data": {
      "image/png": "[encoded data removed]",
      "text/plain": [
       "<Figure size 960x640 with 1 Axes>"
      ]
     },
     "metadata": {},
     "output_type": "display_data"
    }
   ],
   "source": [
    "plt.figure(figsize=(12,8),dpi=80)\n",
    "sns.barplot(x=genre_counts.index, y=genre_counts.values)\n",
    "plt.title('Movies by Genre')\n",
    "plt.xlabel('Genre')\n",
    "plt.ylabel('Number of Movies')\n",
    "plt.show()"
   ]
  },
  {
   "cell_type": "markdown",
   "id": "6ef4b7d4",
   "metadata": {
    "papermill": {
     "duration": 0.01426,
     "end_time": "2023-05-07T07:31:30.338355",
     "exception": false,
     "start_time": "2023-05-07T07:31:30.324095",
     "status": "completed"
    },
    "tags": []
   },
   "source": [
    "Insight:-\n",
    "The **drama** genre is the most popular with **(68)** movies which are in TOP 250 IMDB Movies\n"
   ]
  },
  {
   "cell_type": "markdown",
   "id": "89eaf851",
   "metadata": {
    "papermill": {
     "duration": 0.013709,
     "end_time": "2023-05-07T07:31:30.366083",
     "exception": false,
     "start_time": "2023-05-07T07:31:30.352374",
     "status": "completed"
    },
    "tags": []
   },
   "source": [
    "#### 3. Genre with average imdb rating"
   ]
  },
  {
   "cell_type": "code",
   "execution_count": 22,
   "id": "7381c7ad",
   "metadata": {
    "execution": {
     "iopub.execute_input": "2023-05-07T07:31:30.396446Z",
     "iopub.status.busy": "2023-05-07T07:31:30.396091Z",
     "iopub.status.idle": "2023-05-07T07:31:30.406602Z",
     "shell.execute_reply": "2023-05-07T07:31:30.405827Z"
    },
    "papermill": {
     "duration": 0.028318,
     "end_time": "2023-05-07T07:31:30.408512",
     "exception": false,
     "start_time": "2023-05-07T07:31:30.380194",
     "status": "completed"
    },
    "tags": []
   },
   "outputs": [
    {
     "data": {
      "text/plain": [
       "main_genre\n",
       "Crime        8.400000\n",
       "Action       8.366667\n",
       "Mystery      8.350000\n",
       "Western      8.350000\n",
       "Horror       8.325000\n",
       "Drama        8.295588\n",
       "Biography    8.265217\n",
       "Animation    8.252174\n",
       "Comedy       8.252174\n",
       "Adventure    8.222727\n",
       "Film-Noir    8.100000\n",
       "Name: imdb_rating, dtype: float64"
      ]
     },
     "execution_count": 22,
     "metadata": {},
     "output_type": "execute_result"
    }
   ],
   "source": [
    "genre_ratings = df.groupby('main_genre')['imdb_rating'].mean().sort_values(ascending=False) #groupping the genre and taking the average of the imbd_rating\n",
    "genre_ratings"
   ]
  },
  {
   "cell_type": "code",
   "execution_count": 23,
   "id": "f123e2b7",
   "metadata": {
    "execution": {
     "iopub.execute_input": "2023-05-07T07:31:30.438707Z",
     "iopub.status.busy": "2023-05-07T07:31:30.437931Z",
     "iopub.status.idle": "2023-05-07T07:31:30.732474Z",
     "shell.execute_reply": "2023-05-07T07:31:30.731280Z"
    },
    "papermill": {
     "duration": 0.31221,
     "end_time": "2023-05-07T07:31:30.734776",
     "exception": false,
     "start_time": "2023-05-07T07:31:30.422566",
     "status": "completed"
    },
    "tags": []
   },
   "outputs": [
    {
     "data": {
      "image/png": "[encoded data removed]",
      "text/plain": [
       "<Figure size 960x640 with 1 Axes>"
      ]
     },
     "metadata": {},
     "output_type": "display_data"
    }
   ],
   "source": [
    "plt.figure(figsize=(12,8),dpi=80)\n",
    "sns.barplot(x=genre_ratings.index, y=genre_ratings.values,order = genre_ratings.index, palette='Set2')\n",
    "plt.ylim(8, 8.5)\n",
    "plt.title('Rating by Genre')\n",
    "plt.xlabel('Genre')\n",
    "plt.ylabel('Rating')\n",
    "plt.show()"
   ]
  },
  {
   "cell_type": "markdown",
   "id": "cfff35df",
   "metadata": {
    "papermill": {
     "duration": 0.01419,
     "end_time": "2023-05-07T07:31:30.763477",
     "exception": false,
     "start_time": "2023-05-07T07:31:30.749287",
     "status": "completed"
    },
    "tags": []
   },
   "source": [
    "Insight:-\n",
    "The **Crime** Genre has the highest imbd rating **(8.4)** in TOP 250 IMDB Movies"
   ]
  },
  {
   "cell_type": "markdown",
   "id": "6e8f7377",
   "metadata": {
    "papermill": {
     "duration": 0.014054,
     "end_time": "2023-05-07T07:31:30.792086",
     "exception": false,
     "start_time": "2023-05-07T07:31:30.778032",
     "status": "completed"
    },
    "tags": []
   },
   "source": [
    "#### 4. Genre with imbd votes"
   ]
  },
  {
   "cell_type": "code",
   "execution_count": 24,
   "id": "fba7f999",
   "metadata": {
    "execution": {
     "iopub.execute_input": "2023-05-07T07:31:30.823767Z",
     "iopub.status.busy": "2023-05-07T07:31:30.823319Z",
     "iopub.status.idle": "2023-05-07T07:31:30.833205Z",
     "shell.execute_reply": "2023-05-07T07:31:30.832061Z"
    },
    "papermill": {
     "duration": 0.028553,
     "end_time": "2023-05-07T07:31:30.835284",
     "exception": false,
     "start_time": "2023-05-07T07:31:30.806731",
     "status": "completed"
    },
    "tags": []
   },
   "outputs": [
    {
     "data": {
      "text/plain": [
       "main_genre\n",
       "Action       26.640471\n",
       "Drama        22.496876\n",
       "Crime        15.924263\n",
       "Animation     9.010675\n",
       "Biography     8.488496\n",
       "Adventure     7.484295\n",
       "Comedy        5.829100\n",
       "Mystery       2.157261\n",
       "Horror        1.494464\n",
       "Western       0.366810\n",
       "Film-Noir     0.107289\n",
       "Name: imdb_votes, dtype: float64"
      ]
     },
     "execution_count": 24,
     "metadata": {},
     "output_type": "execute_result"
    }
   ],
   "source": [
    "genre_votes = df.groupby('main_genre')['imdb_votes'].sum().sort_values(ascending=False) # groupping the genre and summing the imbd votes\n",
    "\n",
    "genre_percentage = (genre_votes / genre_votes.sum()) * 100                              # Calculating the percentage of imbd votes for each genre\n",
    "genre_percentage"
   ]
  },
  {
   "cell_type": "code",
   "execution_count": 25,
   "id": "ed9ef4cf",
   "metadata": {
    "execution": {
     "iopub.execute_input": "2023-05-07T07:31:30.866679Z",
     "iopub.status.busy": "2023-05-07T07:31:30.866007Z",
     "iopub.status.idle": "2023-05-07T07:31:31.198505Z",
     "shell.execute_reply": "2023-05-07T07:31:31.197519Z"
    },
    "papermill": {
     "duration": 0.351129,
     "end_time": "2023-05-07T07:31:31.200993",
     "exception": false,
     "start_time": "2023-05-07T07:31:30.849864",
     "status": "completed"
    },
    "tags": []
   },
   "outputs": [
    {
     "data": {
      "text/plain": [
       "(0.0, 30.0)"
      ]
     },
     "execution_count": 25,
     "metadata": {},
     "output_type": "execute_result"
    },
    {
     "data": {
      "image/png": "[encoded data removed]",
      "text/plain": [
       "<Figure size 960x640 with 1 Axes>"
      ]
     },
     "metadata": {},
     "output_type": "display_data"
    }
   ],
   "source": [
    "plt.figure(figsize=(12,8),dpi=80)\n",
    "sns.barplot( x=genre_percentage.index, y=genre_percentage.values,palette='viridis')\n",
    "plt.title('Percentage of Votes by Genre')\n",
    "plt.xlabel('Genre')\n",
    "plt.ylabel('Percentage of Votes')\n",
    "plt.ylim(0, 30)"
   ]
  },
  {
   "cell_type": "markdown",
   "id": "cead8712",
   "metadata": {
    "papermill": {
     "duration": 0.014209,
     "end_time": "2023-05-07T07:31:31.230127",
     "exception": false,
     "start_time": "2023-05-07T07:31:31.215918",
     "status": "completed"
    },
    "tags": []
   },
   "source": [
    "Insight:-\n",
    "The **Action** genre has the highest percentage of Votes (**26.64% i.e 43142872**) which are in TOP 250 IMDB Movies"
   ]
  },
  {
   "cell_type": "markdown",
   "id": "eabfdece",
   "metadata": {
    "papermill": {
     "duration": 0.013849,
     "end_time": "2023-05-07T07:31:31.258378",
     "exception": false,
     "start_time": "2023-05-07T07:31:31.244529",
     "status": "completed"
    },
    "tags": []
   },
   "source": [
    "#### 5. TOP Directors by Average rating "
   ]
  },
  {
   "cell_type": "code",
   "execution_count": 26,
   "id": "41dec766",
   "metadata": {
    "execution": {
     "iopub.execute_input": "2023-05-07T07:31:31.288588Z",
     "iopub.status.busy": "2023-05-07T07:31:31.288185Z",
     "iopub.status.idle": "2023-05-07T07:31:31.311780Z",
     "shell.execute_reply": "2023-05-07T07:31:31.311069Z"
    },
    "papermill": {
     "duration": 0.041003,
     "end_time": "2023-05-07T07:31:31.313547",
     "exception": false,
     "start_time": "2023-05-07T07:31:31.272544",
     "status": "completed"
    },
    "tags": []
   },
   "outputs": [
    {
     "data": {
      "text/html": [
       "<div>\n",
       "<style scoped>\n",
       "    .dataframe tbody tr th:only-of-type {\n",
       "        vertical-align: middle;\n",
       "    }\n",
       "\n",
       "    .dataframe tbody tr th {\n",
       "        vertical-align: top;\n",
       "    }\n",
       "\n",
       "    .dataframe thead th {\n",
       "        text-align: right;\n",
       "    }\n",
       "</style>\n",
       "<table border=\"1\" class=\"dataframe\">\n",
       "  <thead>\n",
       "    <tr style=\"text-align: right;\">\n",
       "      <th></th>\n",
       "      <th>rank</th>\n",
       "      <th>title</th>\n",
       "      <th>year</th>\n",
       "      <th>imdb_votes</th>\n",
       "      <th>imdb_rating</th>\n",
       "      <th>certificate</th>\n",
       "      <th>duration</th>\n",
       "      <th>genre</th>\n",
       "      <th>director_name</th>\n",
       "      <th>main_genre</th>\n",
       "      <th>decade</th>\n",
       "      <th>minutes</th>\n",
       "    </tr>\n",
       "  </thead>\n",
       "  <tbody>\n",
       "    <tr>\n",
       "      <th>2</th>\n",
       "      <td>3</td>\n",
       "      <td>The Dark Knight</td>\n",
       "      <td>2008</td>\n",
       "      <td>2684051</td>\n",
       "      <td>9.0</td>\n",
       "      <td>PG-13</td>\n",
       "      <td>2h 32m</td>\n",
       "      <td>Action,Crime,Drama</td>\n",
       "      <td>Christopher Nolan</td>\n",
       "      <td>Action</td>\n",
       "      <td>2000</td>\n",
       "      <td>152</td>\n",
       "    </tr>\n",
       "    <tr>\n",
       "      <th>5</th>\n",
       "      <td>6</td>\n",
       "      <td>Schindler's List</td>\n",
       "      <td>1993</td>\n",
       "      <td>1369626</td>\n",
       "      <td>9.0</td>\n",
       "      <td>R</td>\n",
       "      <td>3h 15m</td>\n",
       "      <td>Biography,Drama,History</td>\n",
       "      <td>Steven Spielberg</td>\n",
       "      <td>Biography</td>\n",
       "      <td>1990</td>\n",
       "      <td>195</td>\n",
       "    </tr>\n",
       "    <tr>\n",
       "      <th>7</th>\n",
       "      <td>8</td>\n",
       "      <td>Pulp Fiction</td>\n",
       "      <td>1994</td>\n",
       "      <td>2081489</td>\n",
       "      <td>8.9</td>\n",
       "      <td>R</td>\n",
       "      <td>2h 34m</td>\n",
       "      <td>Crime,Drama</td>\n",
       "      <td>Quentin Tarantino</td>\n",
       "      <td>Crime</td>\n",
       "      <td>1990</td>\n",
       "      <td>154</td>\n",
       "    </tr>\n",
       "    <tr>\n",
       "      <th>9</th>\n",
       "      <td>10</td>\n",
       "      <td>The Good, the Bad and the Ugly</td>\n",
       "      <td>1966</td>\n",
       "      <td>769389</td>\n",
       "      <td>8.8</td>\n",
       "      <td>Approved</td>\n",
       "      <td>2h 58m</td>\n",
       "      <td>Adventure,Western</td>\n",
       "      <td>Sergio Leone</td>\n",
       "      <td>Adventure</td>\n",
       "      <td>1960</td>\n",
       "      <td>178</td>\n",
       "    </tr>\n",
       "    <tr>\n",
       "      <th>13</th>\n",
       "      <td>14</td>\n",
       "      <td>Inception</td>\n",
       "      <td>2010</td>\n",
       "      <td>2381879</td>\n",
       "      <td>8.8</td>\n",
       "      <td>PG-13</td>\n",
       "      <td>2h 28m</td>\n",
       "      <td>Action,Adventure,Sci-Fi</td>\n",
       "      <td>Christopher Nolan</td>\n",
       "      <td>Action</td>\n",
       "      <td>2010</td>\n",
       "      <td>148</td>\n",
       "    </tr>\n",
       "    <tr>\n",
       "      <th>...</th>\n",
       "      <td>...</td>\n",
       "      <td>...</td>\n",
       "      <td>...</td>\n",
       "      <td>...</td>\n",
       "      <td>...</td>\n",
       "      <td>...</td>\n",
       "      <td>...</td>\n",
       "      <td>...</td>\n",
       "      <td>...</td>\n",
       "      <td>...</td>\n",
       "      <td>...</td>\n",
       "      <td>...</td>\n",
       "    </tr>\n",
       "    <tr>\n",
       "      <th>176</th>\n",
       "      <td>177</td>\n",
       "      <td>The Gold Rush</td>\n",
       "      <td>1925</td>\n",
       "      <td>112833</td>\n",
       "      <td>8.1</td>\n",
       "      <td>Passed</td>\n",
       "      <td>1h 35m</td>\n",
       "      <td>Adventure,Comedy,Drama</td>\n",
       "      <td>Charles Chaplin</td>\n",
       "      <td>Adventure</td>\n",
       "      <td>1920</td>\n",
       "      <td>95</td>\n",
       "    </tr>\n",
       "    <tr>\n",
       "      <th>189</th>\n",
       "      <td>190</td>\n",
       "      <td>Barry Lyndon</td>\n",
       "      <td>1975</td>\n",
       "      <td>171559</td>\n",
       "      <td>8.1</td>\n",
       "      <td>PG</td>\n",
       "      <td>3h 5m</td>\n",
       "      <td>Adventure,Drama,War</td>\n",
       "      <td>Stanley Kubrick</td>\n",
       "      <td>Adventure</td>\n",
       "      <td>1970</td>\n",
       "      <td>185</td>\n",
       "    </tr>\n",
       "    <tr>\n",
       "      <th>203</th>\n",
       "      <td>204</td>\n",
       "      <td>Jaws</td>\n",
       "      <td>1975</td>\n",
       "      <td>615988</td>\n",
       "      <td>8.1</td>\n",
       "      <td>PG</td>\n",
       "      <td>2h 4m</td>\n",
       "      <td>Adventure,Thriller</td>\n",
       "      <td>Steven Spielberg</td>\n",
       "      <td>Adventure</td>\n",
       "      <td>1970</td>\n",
       "      <td>124</td>\n",
       "    </tr>\n",
       "    <tr>\n",
       "      <th>236</th>\n",
       "      <td>237</td>\n",
       "      <td>Rebecca</td>\n",
       "      <td>1940</td>\n",
       "      <td>139329</td>\n",
       "      <td>8.1</td>\n",
       "      <td>Approved</td>\n",
       "      <td>2h 10m</td>\n",
       "      <td>Drama,Film-Noir,Mystery</td>\n",
       "      <td>Alfred Hitchcock</td>\n",
       "      <td>Drama</td>\n",
       "      <td>1940</td>\n",
       "      <td>130</td>\n",
       "    </tr>\n",
       "    <tr>\n",
       "      <th>245</th>\n",
       "      <td>246</td>\n",
       "      <td>Dersu Uzala</td>\n",
       "      <td>1975</td>\n",
       "      <td>31167</td>\n",
       "      <td>8.2</td>\n",
       "      <td>G</td>\n",
       "      <td>2h 22m</td>\n",
       "      <td>Adventure,Biography,Drama</td>\n",
       "      <td>Akira Kurosawa</td>\n",
       "      <td>Adventure</td>\n",
       "      <td>1970</td>\n",
       "      <td>142</td>\n",
       "    </tr>\n",
       "  </tbody>\n",
       "</table>\n",
       "<p>64 rows × 12 columns</p>\n",
       "</div>"
      ],
      "text/plain": [
       "     rank                           title  year  imdb_votes  imdb_rating  \\\n",
       "2       3                 The Dark Knight  2008     2684051          9.0   \n",
       "5       6                Schindler's List  1993     1369626          9.0   \n",
       "7       8                    Pulp Fiction  1994     2081489          8.9   \n",
       "9      10  The Good, the Bad and the Ugly  1966      769389          8.8   \n",
       "13     14                       Inception  2010     2381879          8.8   \n",
       "..    ...                             ...   ...         ...          ...   \n",
       "176   177                   The Gold Rush  1925      112833          8.1   \n",
       "189   190                    Barry Lyndon  1975      171559          8.1   \n",
       "203   204                            Jaws  1975      615988          8.1   \n",
       "236   237                         Rebecca  1940      139329          8.1   \n",
       "245   246                     Dersu Uzala  1975       31167          8.2   \n",
       "\n",
       "    certificate duration                      genre      director_name  \\\n",
       "2         PG-13   2h 32m         Action,Crime,Drama  Christopher Nolan   \n",
       "5             R   3h 15m    Biography,Drama,History   Steven Spielberg   \n",
       "7             R   2h 34m                Crime,Drama  Quentin Tarantino   \n",
       "9      Approved   2h 58m          Adventure,Western       Sergio Leone   \n",
       "13        PG-13   2h 28m    Action,Adventure,Sci-Fi  Christopher Nolan   \n",
       "..          ...      ...                        ...                ...   \n",
       "176      Passed   1h 35m     Adventure,Comedy,Drama    Charles Chaplin   \n",
       "189          PG    3h 5m        Adventure,Drama,War    Stanley Kubrick   \n",
       "203          PG    2h 4m         Adventure,Thriller   Steven Spielberg   \n",
       "236    Approved   2h 10m    Drama,Film-Noir,Mystery   Alfred Hitchcock   \n",
       "245           G   2h 22m  Adventure,Biography,Drama     Akira Kurosawa   \n",
       "\n",
       "    main_genre  decade  minutes  \n",
       "2       Action    2000      152  \n",
       "5    Biography    1990      195  \n",
       "7        Crime    1990      154  \n",
       "9    Adventure    1960      178  \n",
       "13      Action    2010      148  \n",
       "..         ...     ...      ...  \n",
       "176  Adventure    1920       95  \n",
       "189  Adventure    1970      185  \n",
       "203  Adventure    1970      124  \n",
       "236      Drama    1940      130  \n",
       "245  Adventure    1970      142  \n",
       "\n",
       "[64 rows x 12 columns]"
      ]
     },
     "execution_count": 26,
     "metadata": {},
     "output_type": "execute_result"
    }
   ],
   "source": [
    "top_directors = df.groupby('director_name').filter(lambda x: len(x) >3)     #filtering the directors with movies more than 3\n",
    "top_directors"
   ]
  },
  {
   "cell_type": "code",
   "execution_count": 27,
   "id": "72821177",
   "metadata": {
    "execution": {
     "iopub.execute_input": "2023-05-07T07:31:31.346745Z",
     "iopub.status.busy": "2023-05-07T07:31:31.345682Z",
     "iopub.status.idle": "2023-05-07T07:31:31.360251Z",
     "shell.execute_reply": "2023-05-07T07:31:31.359149Z"
    },
    "papermill": {
     "duration": 0.033335,
     "end_time": "2023-05-07T07:31:31.362500",
     "exception": false,
     "start_time": "2023-05-07T07:31:31.329165",
     "status": "completed"
    },
    "tags": []
   },
   "outputs": [
    {
     "data": {
      "text/plain": [
       "director_name\n",
       "Christopher Nolan    8.557143\n",
       "Sergio Leone         8.450000\n",
       "Quentin Tarantino    8.420000\n",
       "Steven Spielberg     8.371429\n",
       "Charles Chaplin      8.360000\n",
       "Billy Wilder         8.320000\n",
       "Alfred Hitchcock     8.316667\n",
       "Stanley Kubrick      8.314286\n",
       "Martin Scorsese      8.314286\n",
       "Hayao Miyazaki       8.300000\n",
       "Akira Kurosawa       8.300000\n",
       "Name: imdb_rating, dtype: float64"
      ]
     },
     "execution_count": 27,
     "metadata": {},
     "output_type": "execute_result"
    }
   ],
   "source": [
    "top_directors_rating = df.groupby('director_name').filter(lambda x: len(x) > 3).groupby('director_name')['imdb_rating'].mean().sort_values(ascending=False)\n",
    "top_directors_rating"
   ]
  },
  {
   "cell_type": "code",
   "execution_count": 28,
   "id": "28ce7315",
   "metadata": {
    "execution": {
     "iopub.execute_input": "2023-05-07T07:31:31.395937Z",
     "iopub.status.busy": "2023-05-07T07:31:31.395579Z",
     "iopub.status.idle": "2023-05-07T07:31:31.730681Z",
     "shell.execute_reply": "2023-05-07T07:31:31.729550Z"
    },
    "papermill": {
     "duration": 0.354819,
     "end_time": "2023-05-07T07:31:31.733169",
     "exception": false,
     "start_time": "2023-05-07T07:31:31.378350",
     "status": "completed"
    },
    "tags": []
   },
   "outputs": [
    {
     "data": {
      "image/png": "[encoded data removed]",
      "text/plain": [
       "<Figure size 1440x800 with 1 Axes>"
      ]
     },
     "metadata": {},
     "output_type": "display_data"
    }
   ],
   "source": [
    "plt.figure(figsize=(18,10),dpi=80)\n",
    "sns.barplot(x=top_directors_rating.index, y=top_directors_rating.values, order=top_directors_rating.index)\n",
    "plt.ylim(8, 8.6)\n",
    "plt.title('Average Ratings by Top Directors')\n",
    "plt.xlabel('Director')\n",
    "plt.ylabel('Rating')\n",
    "plt.show()"
   ]
  },
  {
   "cell_type": "markdown",
   "id": "64245b2c",
   "metadata": {
    "papermill": {
     "duration": 0.015857,
     "end_time": "2023-05-07T07:31:31.765155",
     "exception": false,
     "start_time": "2023-05-07T07:31:31.749298",
     "status": "completed"
    },
    "tags": []
   },
   "source": [
    "Insight:- **Christopher Nolan** has the highest Average Rating of **(8.55)** for top 250 IMDB Movies"
   ]
  },
  {
   "cell_type": "markdown",
   "id": "e1949c93",
   "metadata": {
    "papermill": {
     "duration": 0.016214,
     "end_time": "2023-05-07T07:31:31.797517",
     "exception": false,
     "start_time": "2023-05-07T07:31:31.781303",
     "status": "completed"
    },
    "tags": []
   },
   "source": [
    "#### 6 .Relationship between Top Director and Genre with rating"
   ]
  },
  {
   "cell_type": "code",
   "execution_count": 29,
   "id": "11f9884b",
   "metadata": {
    "execution": {
     "iopub.execute_input": "2023-05-07T07:31:31.832209Z",
     "iopub.status.busy": "2023-05-07T07:31:31.831025Z",
     "iopub.status.idle": "2023-05-07T07:31:31.880090Z",
     "shell.execute_reply": "2023-05-07T07:31:31.879068Z"
    },
    "papermill": {
     "duration": 0.068683,
     "end_time": "2023-05-07T07:31:31.882353",
     "exception": false,
     "start_time": "2023-05-07T07:31:31.813670",
     "status": "completed"
    },
    "tags": []
   },
   "outputs": [
    {
     "data": {
      "text/html": [
       "<div>\n",
       "<style scoped>\n",
       "    .dataframe tbody tr th:only-of-type {\n",
       "        vertical-align: middle;\n",
       "    }\n",
       "\n",
       "    .dataframe tbody tr th {\n",
       "        vertical-align: top;\n",
       "    }\n",
       "\n",
       "    .dataframe thead th {\n",
       "        text-align: right;\n",
       "    }\n",
       "</style>\n",
       "<table border=\"1\" class=\"dataframe\">\n",
       "  <thead>\n",
       "    <tr style=\"text-align: right;\">\n",
       "      <th>main_genre</th>\n",
       "      <th>Action</th>\n",
       "      <th>Adventure</th>\n",
       "      <th>Animation</th>\n",
       "      <th>Biography</th>\n",
       "      <th>Comedy</th>\n",
       "      <th>Crime</th>\n",
       "      <th>Drama</th>\n",
       "      <th>Horror</th>\n",
       "      <th>Mystery</th>\n",
       "      <th>Western</th>\n",
       "    </tr>\n",
       "    <tr>\n",
       "      <th>director_name</th>\n",
       "      <th></th>\n",
       "      <th></th>\n",
       "      <th></th>\n",
       "      <th></th>\n",
       "      <th></th>\n",
       "      <th></th>\n",
       "      <th></th>\n",
       "      <th></th>\n",
       "      <th></th>\n",
       "      <th></th>\n",
       "    </tr>\n",
       "  </thead>\n",
       "  <tbody>\n",
       "    <tr>\n",
       "      <th>Akira Kurosawa</th>\n",
       "      <td>8.333333</td>\n",
       "      <td>8.2</td>\n",
       "      <td>0.0</td>\n",
       "      <td>0.0</td>\n",
       "      <td>0.0</td>\n",
       "      <td>8.3</td>\n",
       "      <td>8.3</td>\n",
       "      <td>0.0</td>\n",
       "      <td>0.0</td>\n",
       "      <td>0.0</td>\n",
       "    </tr>\n",
       "    <tr>\n",
       "      <th>Alfred Hitchcock</th>\n",
       "      <td>8.300000</td>\n",
       "      <td>0.0</td>\n",
       "      <td>0.0</td>\n",
       "      <td>0.0</td>\n",
       "      <td>0.0</td>\n",
       "      <td>8.2</td>\n",
       "      <td>8.1</td>\n",
       "      <td>8.5</td>\n",
       "      <td>8.4</td>\n",
       "      <td>0.0</td>\n",
       "    </tr>\n",
       "  </tbody>\n",
       "</table>\n",
       "</div>"
      ],
      "text/plain": [
       "main_genre          Action  Adventure  Animation  Biography  Comedy  Crime  \\\n",
       "director_name                                                                \n",
       "Akira Kurosawa    8.333333        8.2        0.0        0.0     0.0    8.3   \n",
       "Alfred Hitchcock  8.300000        0.0        0.0        0.0     0.0    8.2   \n",
       "\n",
       "main_genre        Drama  Horror  Mystery  Western  \n",
       "director_name                                      \n",
       "Akira Kurosawa      8.3     0.0      0.0      0.0  \n",
       "Alfred Hitchcock    8.1     8.5      8.4      0.0  "
      ]
     },
     "execution_count": 29,
     "metadata": {},
     "output_type": "execute_result"
    }
   ],
   "source": [
    "table = pd.pivot_table(top_directors, values='imdb_rating',\n",
    "                       index='director_name', columns='main_genre',   # create a pivot table of the mean ratings by director and genre\n",
    "                       aggfunc=np.mean,fill_value=0)\n",
    "table.head(2)"
   ]
  },
  {
   "cell_type": "code",
   "execution_count": 30,
   "id": "b9878357",
   "metadata": {
    "execution": {
     "iopub.execute_input": "2023-05-07T07:31:31.916955Z",
     "iopub.status.busy": "2023-05-07T07:31:31.916534Z",
     "iopub.status.idle": "2023-05-07T07:31:32.525084Z",
     "shell.execute_reply": "2023-05-07T07:31:32.524216Z"
    },
    "papermill": {
     "duration": 0.628438,
     "end_time": "2023-05-07T07:31:32.527129",
     "exception": false,
     "start_time": "2023-05-07T07:31:31.898691",
     "status": "completed"
    },
    "tags": []
   },
   "outputs": [
    {
     "data": {
      "image/png": "[encoded data removed]",
      "text/plain": [
       "<Figure size 960x640 with 2 Axes>"
      ]
     },
     "metadata": {},
     "output_type": "display_data"
    }
   ],
   "source": [
    "plt.figure(figsize=(12,8),dpi=80)\n",
    "sns.heatmap(table, cmap='coolwarm', annot=True, fmt='.1f')\n",
    "plt.title('Average Ratings by Director and Genre')\n",
    "plt.show()"
   ]
  },
  {
   "cell_type": "markdown",
   "id": "ad632faa",
   "metadata": {
    "papermill": {
     "duration": 0.017594,
     "end_time": "2023-05-07T07:31:32.562672",
     "exception": false,
     "start_time": "2023-05-07T07:31:32.545078",
     "status": "completed"
    },
    "tags": []
   },
   "source": [
    "Insight:-\n",
    "\n",
    "1.**Christopher Nolan** has highest average rating in **Action** and **Adventure** Genre\n",
    "\n",
    "2.**Sergio Leonie** is ideal of **Adventure**\n",
    "\n",
    "3.**Steven Spielberg** has highest average rating in **Biography** and **Drama**"
   ]
  },
  {
   "cell_type": "markdown",
   "id": "5d8e1043",
   "metadata": {
    "papermill": {
     "duration": 0.016615,
     "end_time": "2023-05-07T07:31:32.596391",
     "exception": false,
     "start_time": "2023-05-07T07:31:32.579776",
     "status": "completed"
    },
    "tags": []
   },
   "source": [
    "#### 7. Movies by Decade"
   ]
  },
  {
   "cell_type": "code",
   "execution_count": 31,
   "id": "5c653b76",
   "metadata": {
    "execution": {
     "iopub.execute_input": "2023-05-07T07:31:32.633525Z",
     "iopub.status.busy": "2023-05-07T07:31:32.632639Z",
     "iopub.status.idle": "2023-05-07T07:31:32.641493Z",
     "shell.execute_reply": "2023-05-07T07:31:32.640492Z"
    },
    "papermill": {
     "duration": 0.029337,
     "end_time": "2023-05-07T07:31:32.643421",
     "exception": false,
     "start_time": "2023-05-07T07:31:32.614084",
     "status": "completed"
    },
    "tags": []
   },
   "outputs": [
    {
     "data": {
      "text/plain": [
       "decade\n",
       "2000    48\n",
       "2010    43\n",
       "1990    42\n",
       "1980    27\n",
       "1950    23\n",
       "1970    19\n",
       "1960    18\n",
       "1940    12\n",
       "1930     7\n",
       "1920     6\n",
       "2020     5\n",
       "dtype: int64"
      ]
     },
     "execution_count": 31,
     "metadata": {},
     "output_type": "execute_result"
    }
   ],
   "source": [
    "top_decades = df.groupby('decade').size().sort_values(ascending=False)   # extracting the count of movies for each decade\n",
    "top_decades"
   ]
  },
  {
   "cell_type": "code",
   "execution_count": 32,
   "id": "b54791a9",
   "metadata": {
    "execution": {
     "iopub.execute_input": "2023-05-07T07:31:32.680020Z",
     "iopub.status.busy": "2023-05-07T07:31:32.679387Z",
     "iopub.status.idle": "2023-05-07T07:31:32.966052Z",
     "shell.execute_reply": "2023-05-07T07:31:32.964944Z"
    },
    "papermill": {
     "duration": 0.307782,
     "end_time": "2023-05-07T07:31:32.968372",
     "exception": false,
     "start_time": "2023-05-07T07:31:32.660590",
     "status": "completed"
    },
    "tags": []
   },
   "outputs": [
    {
     "data": {
      "image/png": "[encoded data removed]",
      "text/plain": [
       "<Figure size 960x640 with 1 Axes>"
      ]
     },
     "metadata": {},
     "output_type": "display_data"
    }
   ],
   "source": [
    "top_decades = df.groupby('decade').size().sort_values(ascending=False)\n",
    "plt.figure(figsize=(12,8),dpi=80)\n",
    "sns.barplot(x=top_decades.index, y=top_decades.values,order=top_decades.index,palette='rocket')\n",
    "plt.xlabel('Decade')\n",
    "plt.ylabel('Number of movies')\n",
    "plt.title('Number of movies by decade')\n",
    "plt.show()"
   ]
  },
  {
   "cell_type": "markdown",
   "id": "fb21a9cd",
   "metadata": {
    "papermill": {
     "duration": 0.017339,
     "end_time": "2023-05-07T07:31:33.003359",
     "exception": false,
     "start_time": "2023-05-07T07:31:32.986020",
     "status": "completed"
    },
    "tags": []
   },
   "source": [
    "Insight:-\n",
    "\n",
    "1. **1990,2000,2010** this three decade alone have half of the movies in top 250 IMBD\n",
    "\n",
    "2. We can see **2020** has the least amount of movies and the possible reason  is that is has **only 3 years** to it in terms of deacade or it is beacuse of  **COVID 19** outbreak and only 5 of the movies made to the IMBD 250 Movies "
   ]
  },
  {
   "cell_type": "markdown",
   "id": "4252c95a",
   "metadata": {
    "papermill": {
     "duration": 0.017245,
     "end_time": "2023-05-07T07:31:33.038489",
     "exception": false,
     "start_time": "2023-05-07T07:31:33.021244",
     "status": "completed"
    },
    "tags": []
   },
   "source": [
    "#### 8. Average rating by TOP directors and decade"
   ]
  },
  {
   "cell_type": "code",
   "execution_count": 33,
   "id": "939fc9d3",
   "metadata": {
    "execution": {
     "iopub.execute_input": "2023-05-07T07:31:33.076513Z",
     "iopub.status.busy": "2023-05-07T07:31:33.075876Z",
     "iopub.status.idle": "2023-05-07T07:31:33.089434Z",
     "shell.execute_reply": "2023-05-07T07:31:33.088357Z"
    },
    "papermill": {
     "duration": 0.034999,
     "end_time": "2023-05-07T07:31:33.091436",
     "exception": false,
     "start_time": "2023-05-07T07:31:33.056437",
     "status": "completed"
    },
    "tags": []
   },
   "outputs": [
    {
     "data": {
      "text/html": [
       "<div>\n",
       "<style scoped>\n",
       "    .dataframe tbody tr th:only-of-type {\n",
       "        vertical-align: middle;\n",
       "    }\n",
       "\n",
       "    .dataframe tbody tr th {\n",
       "        vertical-align: top;\n",
       "    }\n",
       "\n",
       "    .dataframe thead th {\n",
       "        text-align: right;\n",
       "    }\n",
       "</style>\n",
       "<table border=\"1\" class=\"dataframe\">\n",
       "  <thead>\n",
       "    <tr style=\"text-align: right;\">\n",
       "      <th></th>\n",
       "      <th>director_name</th>\n",
       "      <th>decade</th>\n",
       "      <th>imdb_rating</th>\n",
       "    </tr>\n",
       "  </thead>\n",
       "  <tbody>\n",
       "    <tr>\n",
       "      <th>0</th>\n",
       "      <td>Akira Kurosawa</td>\n",
       "      <td>1950</td>\n",
       "      <td>8.366667</td>\n",
       "    </tr>\n",
       "    <tr>\n",
       "      <th>1</th>\n",
       "      <td>Akira Kurosawa</td>\n",
       "      <td>1960</td>\n",
       "      <td>8.300000</td>\n",
       "    </tr>\n",
       "    <tr>\n",
       "      <th>2</th>\n",
       "      <td>Akira Kurosawa</td>\n",
       "      <td>1970</td>\n",
       "      <td>8.200000</td>\n",
       "    </tr>\n",
       "    <tr>\n",
       "      <th>3</th>\n",
       "      <td>Akira Kurosawa</td>\n",
       "      <td>1980</td>\n",
       "      <td>8.200000</td>\n",
       "    </tr>\n",
       "    <tr>\n",
       "      <th>4</th>\n",
       "      <td>Alfred Hitchcock</td>\n",
       "      <td>1940</td>\n",
       "      <td>8.100000</td>\n",
       "    </tr>\n",
       "  </tbody>\n",
       "</table>\n",
       "</div>"
      ],
      "text/plain": [
       "      director_name  decade  imdb_rating\n",
       "0    Akira Kurosawa    1950     8.366667\n",
       "1    Akira Kurosawa    1960     8.300000\n",
       "2    Akira Kurosawa    1970     8.200000\n",
       "3    Akira Kurosawa    1980     8.200000\n",
       "4  Alfred Hitchcock    1940     8.100000"
      ]
     },
     "execution_count": 33,
     "metadata": {},
     "output_type": "execute_result"
    }
   ],
   "source": [
    "top_directors_decades = top_directors.groupby(['director_name', 'decade'])['imdb_rating'].mean().reset_index()\n",
    "top_directors_decades.head()"
   ]
  },
  {
   "cell_type": "code",
   "execution_count": 34,
   "id": "a541014a",
   "metadata": {
    "execution": {
     "iopub.execute_input": "2023-05-07T07:31:33.129123Z",
     "iopub.status.busy": "2023-05-07T07:31:33.128377Z",
     "iopub.status.idle": "2023-05-07T07:31:33.685498Z",
     "shell.execute_reply": "2023-05-07T07:31:33.684440Z"
    },
    "papermill": {
     "duration": 0.580362,
     "end_time": "2023-05-07T07:31:33.689262",
     "exception": false,
     "start_time": "2023-05-07T07:31:33.108900",
     "status": "completed"
    },
    "tags": []
   },
   "outputs": [
    {
     "data": {
      "image/png": "[encoded data removed]",
      "text/plain": [
       "<Figure size 1800x1000 with 1 Axes>"
      ]
     },
     "metadata": {},
     "output_type": "display_data"
    }
   ],
   "source": [
    "plt.figure(figsize=(18,10))\n",
    "sns.lineplot(data=top_directors_decades, x='decade', y='imdb_rating', hue='director_name', palette='Set2', linewidth=2)\n",
    "plt.title('Average Rating by Director and Decade')\n",
    "plt.xlabel('Decade')\n",
    "plt.ylabel('Average Rating')\n",
    "plt.show()"
   ]
  },
  {
   "cell_type": "markdown",
   "id": "d41d8955",
   "metadata": {
    "papermill": {
     "duration": 0.021138,
     "end_time": "2023-05-07T07:31:33.731214",
     "exception": false,
     "start_time": "2023-05-07T07:31:33.710076",
     "status": "completed"
    },
    "tags": []
   },
   "source": [
    "Insight:-\n",
    "\n",
    "1.Most of the top director's imbd rating has significantly increased throughout the decade \n",
    "\n",
    "2.**Martin Scorsese** has been a successfull director and  been consistent over a period of more than **four decades**. It can also be seen that his best work was produced in the **1990s**, while his movies from the **1980s and 2000s** were rated slightly lower on average "
   ]
  },
  {
   "cell_type": "code",
   "execution_count": null,
   "id": "8b4701db",
   "metadata": {
    "papermill": {
     "duration": 0.020615,
     "end_time": "2023-05-07T07:31:33.772853",
     "exception": false,
     "start_time": "2023-05-07T07:31:33.752238",
     "status": "completed"
    },
    "tags": []
   },
   "outputs": [],
   "source": []
  }
 ],
 "metadata": {
  "kernelspec": {
   "display_name": "Python 3",
   "language": "python",
   "name": "python3"
  },
  "language_info": {
   "codemirror_mode": {
    "name": "ipython",
    "version": 3
   },
   "file_extension": ".py",
   "mimetype": "text/x-python",
   "name": "python",
   "nbconvert_exporter": "python",
   "pygments_lexer": "ipython3",
   "version": "3.10.10"
  },
  "papermill": {
   "default_parameters": {},
   "duration": 17.733478,
   "end_time": "2023-05-07T07:31:34.816395",
   "environment_variables": {},
   "exception": null,
   "input_path": "__notebook__.ipynb",
   "output_path": "__notebook__.ipynb",
   "parameters": {},
   "start_time": "2023-05-07T07:31:17.082917",
   "version": "2.4.0"
  }
 },
 "nbformat": 4,
 "nbformat_minor": 5
}
